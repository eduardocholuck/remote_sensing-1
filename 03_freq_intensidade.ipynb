{
 "cells": [
  {
   "cell_type": "markdown",
   "id": "63a8ff79",
   "metadata": {},
   "source": [
    "# 03 - Cálculo de Frequência e Intensidade (EPI, EPN, EPF)\n",
    "\n",
    "Este notebook realiza:\n",
    "\n",
    "1. Contagem de meses classificados como EPI, EPN e EPF por **ano** e por **estação**.\n",
    "\n",
    "2. Cálculo da **intensidade média** dos eventos (precipitação média dos meses classificados).\n",
    "\n",
    "3. Geração de saídas em formato NetCDF para uso nos próximos notebooks.\n",
    "\n",
    "As análises são feitas tanto **anualmente** quanto **sazonalmente**:\n",
    "\n",
    "- DJF (Dez-Jan-Fev) – Verão\n",
    "\n",
    "- MAM (Mar-Abr-Mai) – Outono\n",
    "\n",
    "- JJA (Jun-Jul-Ago) – Inverno\n",
    "\n",
    "- SON (Set-Out-Nov) – Primavera\n"
   ]
  },
  {
   "cell_type": "markdown",
   "id": "4bccf0e2",
   "metadata": {},
   "source": [
    "## Importações e parâmetros"
   ]
  },
  {
   "cell_type": "code",
   "execution_count": 1,
   "id": "3fa13e56",
   "metadata": {},
   "outputs": [],
   "source": [
    "import xarray as xr\n",
    "import numpy as np\n",
    "import pandas as pd\n",
    "import os"
   ]
  },
  {
   "cell_type": "code",
   "execution_count": 2,
   "id": "5c29395d",
   "metadata": {},
   "outputs": [],
   "source": [
    "# Caminhos para os arquivos\n",
    "base_dir = \"dataset/netcdf_data\"\n",
    "arquivo_precip = os.path.join(base_dir, \"chirps_mensal_1981_2023.nc\")\n",
    "arquivo_epi = os.path.join(base_dir, \"epi.nc\")\n",
    "arquivo_epn = os.path.join(base_dir, \"epn.nc\")\n",
    "arquivo_epf = os.path.join(base_dir, \"epf.nc\")\n",
    "\n",
    "# Saída\n",
    "saida_freq_int = os.path.join(base_dir, \"freq_intensidade\")\n",
    "os.makedirs(saida_freq_int, exist_ok=True)\n"
   ]
  },
  {
   "cell_type": "markdown",
   "id": "6d6bbe88",
   "metadata": {},
   "source": [
    "## Carregando dataset"
   ]
  },
  {
   "cell_type": "code",
   "execution_count": 3,
   "id": "7cade972",
   "metadata": {},
   "outputs": [],
   "source": [
    "# Dados originais\n",
    "precip = xr.open_dataarray(arquivo_precip)\n",
    "\n",
    "# Classificações\n",
    "epi = xr.open_dataarray(arquivo_epi)\n",
    "epn = xr.open_dataarray(arquivo_epn)\n",
    "epf = xr.open_dataarray(arquivo_epf)\n"
   ]
  },
  {
   "cell_type": "markdown",
   "id": "b70e4cd1",
   "metadata": {},
   "source": [
    "## Funções auxiliares para frequência e intensidade"
   ]
  },
  {
   "cell_type": "code",
   "execution_count": 4,
   "id": "21c356fc",
   "metadata": {},
   "outputs": [],
   "source": [
    "def calcular_frequencia(evento):\n",
    "    \"\"\"\n",
    "    Conta o número de meses classificados como True por ano.\n",
    "    \"\"\"\n",
    "    return evento.groupby(\"time.year\").sum(dim=\"time\")\n",
    "\n",
    "def calcular_intensidade(evento, precip):\n",
    "    \"\"\"\n",
    "    Calcula a precipitação média dos meses classificados (True) por ano.\n",
    "    \"\"\"\n",
    "    # Máscara com precipitação apenas onde o evento é True\n",
    "    precip_evento = precip.where(evento)\n",
    "    \n",
    "    # Média anual\n",
    "    return precip_evento.groupby(\"time.year\").mean(dim=\"time\")\n"
   ]
  },
  {
   "cell_type": "markdown",
   "id": "df261274",
   "metadata": {},
   "source": [
    "## Frequência e intensidade anual"
   ]
  },
  {
   "cell_type": "code",
   "execution_count": 5,
   "id": "a4257efa",
   "metadata": {},
   "outputs": [],
   "source": [
    "freq_epi_anual = calcular_frequencia(epi)\n",
    "freq_epn_anual = calcular_frequencia(epn)\n",
    "freq_epf_anual = calcular_frequencia(epf)\n",
    "\n",
    "int_epi_anual = calcular_intensidade(epi, precip)\n",
    "int_epn_anual = calcular_intensidade(epn, precip)\n",
    "int_epf_anual = calcular_intensidade(epf, precip)\n"
   ]
  },
  {
   "cell_type": "markdown",
   "id": "f0f26837",
   "metadata": {},
   "source": [
    "## Agrupamento sazonal\n",
    "\n",
    "Para análises sazonais, usamos labels personalizadas para DJF, MAM, JJA e SON:"
   ]
  },
  {
   "cell_type": "code",
   "execution_count": 6,
   "id": "15dc067c",
   "metadata": {},
   "outputs": [],
   "source": [
    "# Mapeamento mês -> estação\n",
    "estacoes = {12: \"DJF\", 1: \"DJF\", 2: \"DJF\",\n",
    "            3: \"MAM\", 4: \"MAM\", 5: \"MAM\",\n",
    "            6: \"JJA\", 7: \"JJA\", 8: \"JJA\",\n",
    "            9: \"SON\", 10: \"SON\", 11: \"SON\"}\n",
    "\n",
    "def rotular_estacao(time_index):\n",
    "    return [estacoes[m] for m in time_index.dt.month.values]\n",
    "\n",
    "# Adiciona coordenada 'season'\n",
    "epi.coords[\"season\"] = (\"time\", rotular_estacao(epi.time))\n",
    "epn.coords[\"season\"] = (\"time\", rotular_estacao(epn.time))\n",
    "epf.coords[\"season\"] = (\"time\", rotular_estacao(epf.time))\n",
    "precip.coords[\"season\"] = (\"time\", rotular_estacao(precip.time))\n"
   ]
  },
  {
   "cell_type": "markdown",
   "id": "e1d6c78d",
   "metadata": {},
   "source": [
    "## Frequência e intensidade sazonal"
   ]
  },
  {
   "cell_type": "code",
   "execution_count": 7,
   "id": "269a378f",
   "metadata": {},
   "outputs": [],
   "source": [
    "freq_epi_sazonal = epi.groupby(\"season\").sum(dim=\"time\")\n",
    "freq_epn_sazonal = epn.groupby(\"season\").sum(dim=\"time\")\n",
    "freq_epf_sazonal = epf.groupby(\"season\").sum(dim=\"time\")\n",
    "\n",
    "int_epi_sazonal = precip.where(epi).groupby(\"season\").mean(dim=\"time\")\n",
    "int_epn_sazonal = precip.where(epn).groupby(\"season\").mean(dim=\"time\")\n",
    "int_epf_sazonal = precip.where(epf).groupby(\"season\").mean(dim=\"time\")\n"
   ]
  },
  {
   "cell_type": "markdown",
   "id": "7378576c",
   "metadata": {},
   "source": [
    "## Savando os resultados"
   ]
  },
  {
   "cell_type": "code",
   "execution_count": 8,
   "id": "cf97666d",
   "metadata": {},
   "outputs": [],
   "source": [
    "# Frequência anual\n",
    "freq_epi_anual.to_netcdf(os.path.join(saida_freq_int, \"freq_epi_anual.nc\"))\n",
    "freq_epn_anual.to_netcdf(os.path.join(saida_freq_int, \"freq_epn_anual.nc\"))\n",
    "freq_epf_anual.to_netcdf(os.path.join(saida_freq_int, \"freq_epf_anual.nc\"))\n",
    "\n",
    "# Intensidade anual\n",
    "int_epi_anual.to_netcdf(os.path.join(saida_freq_int, \"int_epi_anual.nc\"))\n",
    "int_epn_anual.to_netcdf(os.path.join(saida_freq_int, \"int_epn_anual.nc\"))\n",
    "int_epf_anual.to_netcdf(os.path.join(saida_freq_int, \"int_epf_anual.nc\"))\n",
    "\n",
    "# Frequência sazonal\n",
    "freq_epi_sazonal.to_netcdf(os.path.join(saida_freq_int, \"freq_epi_sazonal.nc\"))\n",
    "freq_epn_sazonal.to_netcdf(os.path.join(saida_freq_int, \"freq_epn_sazonal.nc\"))\n",
    "freq_epf_sazonal.to_netcdf(os.path.join(saida_freq_int, \"freq_epf_sazonal.nc\"))\n",
    "\n",
    "# Intensidade sazonal\n",
    "int_epi_sazonal.to_netcdf(os.path.join(saida_freq_int, \"int_epi_sazonal.nc\"))\n",
    "int_epn_sazonal.to_netcdf(os.path.join(saida_freq_int, \"int_epn_sazonal.nc\"))\n",
    "int_epf_sazonal.to_netcdf(os.path.join(saida_freq_int, \"int_epf_sazonal.nc\"))\n"
   ]
  },
  {
   "cell_type": "markdown",
   "id": "f6b03ad0",
   "metadata": {},
   "source": [
    "- Arquivos gerados contêm frequências (contagem de meses) e intensidades (mm) para cada pixel.\n",
    "\n",
    "- Resultados estão separados por **anual** e **sazonal**, prontos para análise de tendência.\n",
    "\n",
    "- Próximo notebook: aplicar **Mann-Kendall** e **Sen’s slope** sobre frequência/intensidade.\n"
   ]
  }
 ],
 "metadata": {
  "kernelspec": {
   "display_name": "cdo",
   "language": "python",
   "name": "python3"
  },
  "language_info": {
   "codemirror_mode": {
    "name": "ipython",
    "version": 3
   },
   "file_extension": ".py",
   "mimetype": "text/x-python",
   "name": "python",
   "nbconvert_exporter": "python",
   "pygments_lexer": "ipython3",
   "version": "3.13.1"
  }
 },
 "nbformat": 4,
 "nbformat_minor": 5
}
