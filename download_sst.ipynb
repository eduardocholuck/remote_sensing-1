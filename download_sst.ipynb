{
 "cells": [
  {
   "cell_type": "code",
   "execution_count": 5,
   "id": "c819fd22",
   "metadata": {},
   "outputs": [],
   "source": [
    "import copernicusmarine"
   ]
  },
  {
   "cell_type": "code",
   "execution_count": null,
   "id": "d9f727e3",
   "metadata": {},
   "outputs": [
    {
     "name": "stderr",
     "output_type": "stream",
     "text": [
      "INFO - 2025-08-05T11:49:29Z - Selected dataset version: \"202411\"\n",
      "INFO - 2025-08-05T11:49:29Z - Selected dataset part: \"default\"\n",
      "INFO - 2025-08-05T11:51:32Z - Starting download. Please wait...\n",
      "INFO - 2025-08-05T11:51:32Z - NetCDF compression enabled with level 9\n",
      "100%|██████████| 39/39 [02:25<00:00,  3.73s/it]  \n",
      "INFO - 2025-08-05T11:53:59Z - Successfully downloaded to dataset/sst_global/sst_global_1982_(1).nc\n",
      "INFO - 2025-08-05T11:54:13Z - Selected dataset version: \"202411\"\n",
      "INFO - 2025-08-05T11:54:13Z - Selected dataset part: \"default\"\n",
      "INFO - 2025-08-05T11:54:18Z - Starting download. Please wait...\n",
      "INFO - 2025-08-05T11:54:18Z - NetCDF compression enabled with level 9\n",
      "100%|██████████| 130/130 [02:22<00:00,  1.10s/it] \n",
      "INFO - 2025-08-05T11:56:41Z - Successfully downloaded to dataset/sst_global/sst_global_1983.nc\n",
      "INFO - 2025-08-05T11:56:55Z - Selected dataset version: \"202411\"\n",
      "INFO - 2025-08-05T11:56:55Z - Selected dataset part: \"default\"\n",
      "INFO - 2025-08-05T11:57:00Z - Starting download. Please wait...\n",
      "INFO - 2025-08-05T11:57:00Z - NetCDF compression enabled with level 9\n",
      "100%|██████████| 130/130 [02:27<00:00,  1.13s/it] \n",
      "INFO - 2025-08-05T11:59:28Z - Successfully downloaded to dataset/sst_global/sst_global_1984.nc\n"
     ]
    }
   ],
   "source": [
    "for ano in range(1982, 1985):\n",
    "    copernicusmarine.subset(\n",
    "        dataset_id=\"cmems_obs-sst_glo_phy_my_l4_P1D-m\",\n",
    "        dataset_version=\"202411\",\n",
    "        username=\"seu_usuario\",\n",
    "        password=\"sua_senha\",\n",
    "        variables=[\"analysed_sst\"],\n",
    "        minimum_longitude=-50,\n",
    "        maximum_longitude=15,\n",
    "        minimum_latitude=-15,\n",
    "        maximum_latitude=15,\n",
    "        start_datetime=f\"{ano}-01-01T00:00:00\",\n",
    "        end_datetime=f\"{ano}-12-31T00:00:00\",\n",
    "        coordinates_selection_method=\"strict-inside\",\n",
    "        netcdf_compression_level=2,\n",
    "        disable_progress_bar=False,\n",
    "        output_filename = \"sst_global_\" + str(ano) + \".nc\",\n",
    "        output_directory=\"dataset/sst_global\"\n",
    "    )"
   ]
  },
  {
   "cell_type": "code",
   "execution_count": 16,
   "id": "e1365199",
   "metadata": {
    "vscode": {
     "languageId": "shellscript"
    }
   },
   "outputs": [
    {
     "name": "stdout",
     "output_type": "stream",
     "text": [
      "Processing year: 1982\n",
      "cdo    monmean:                        1 1 1 1 1 1 1 1 1 1 2 2 2 2 2 2 2 2 2 2 3 3 3 3 3 3 3 3 3 3 4 4 4 4 4 4 4 4 4 4 5 5 5 5 5 5 5 5 5 5 6 6 6 6 6 6 6 6 6 6 7 7 7 7 7 7 7 7 7 7 8 8 8 8 8 8 8 8 8 8 9 9 9 9 9 9 9 9 9 910\u001b[32mcdo    monmean: \u001b[0mProcessed 71175000 values from 1 variable over 365 timesteps [1.00s 3308MB]\n",
      "Processing year: 1983\n",
      "cdo    monmean:                        1 1 1 1 1 1 1 1 1 1 2 2 2 2 2 2 2 2 2 2 3 3 3 3 3 3 3 3 3 3 4 4 4 4 4 4 4 4 4 4 5 5 5 5 5 5 5 5 5 5 6 6 6 6 6 6 6 6 6 6 7 7 7 7 7 7 7 7 7 7 8 8 8 8 8 8 8 8 8 8 9 9 9 9 9 9 9 9 9 910\u001b[32mcdo    monmean: \u001b[0mProcessed 71175000 values from 1 variable over 365 timesteps [1.00s 3308MB]\n",
      "Processing year: 1984\n",
      "cdo    monmean:                        1 1 1 1 1 1 1 1 1 1 2 2 2 2 2 2 2 2 2 2 3 3 3 3 3 3 3 3 3 3 4 4 4 4 4 4 4 4 4 4 5 5 5 5 5 5 5 5 5 5 6 6 6 6 6 6 6 6 6 6 7 7 7 7 7 7 7 7 7 7 8 8 8 8 8 8 8 8 8 8 9 9 9 9 9 9 9 9 9 910\u001b[32mcdo    monmean: \u001b[0mProcessed 71370000 values from 1 variable over 366 timesteps [1.00s 3308MB]\n",
      "Processing year: 1985\n",
      "cdo    monmean:                        1 1 1 1 1 1 1 1 1 1 2 2 2 2 2 2 2 2 2 2 3 3 3 3 3 3 3 3 3 3 4 4 4 4 4 4 4 4 4 4 5 5 5 5 5 5 5 5 5 5 6 6 6 6 6 6 6 6 6 6 7 7 7 7 7 7 7 7 7 7 8 8 8 8 8 8 8 8 8 8 9 9 9 9 9 9 9 9 9 910\u001b[32mcdo    monmean: \u001b[0mProcessed 71175000 values from 1 variable over 365 timesteps [1.02s 3308MB]\n",
      "Processing year: 1986\n",
      "cdo    monmean:                        1 1 1 1 1 1 1 1 1 1 2 2 2 2 2 2 2 2 2 2 3 3 3 3 3 3 3 3 3 3 4 4 4 4 4 4 4 4 4 4 5 5 5 5 5 5 5 5 5 5 6 6 6 6 6 6 6 6 6 6 7 7 7 7 7 7 7 7 7 7 8 8 8 8 8 8 8 8 8 8 9 9 9 9 9 9 9 9 9 910\u001b[32mcdo    monmean: \u001b[0mProcessed 71175000 values from 1 variable over 365 timesteps [1.02s 3308MB]\n",
      "Processing year: 1987\n",
      "cdo    monmean:                        1 1 1 1 1 1 1 1 1 1 2 2 2 2 2 2 2 2 2 2 3 3 3 3 3 3 3 3 3 3 4 4 4 4 4 4 4 4 4 4 5 5 5 5 5 5 5 5 5 5 6 6 6 6 6 6 6 6 6 6 7 7 7 7 7 7 7 7 7 7 8 8 8 8 8 8 8 8 8 8 9 9 9 9 9 9 9 9 9 910\u001b[32mcdo    monmean: \u001b[0mProcessed 71175000 values from 1 variable over 365 timesteps [1.03s 3308MB]\n",
      "Processing year: 1988\n",
      "cdo    monmean:                        1 1 1 1 1 1 1 1 1 1 2 2 2 2 2 2 2 2 2 2 3 3 3 3 3 3 3 3 3 3 4 4 4 4 4 4 4 4 4 4 5 5 5 5 5 5 5 5 5 5 6 6 6 6 6 6 6 6 6 6 7 7 7 7 7 7 7 7 7 7 8 8 8 8 8 8 8 8 8 8 9 9 9 9 9 9 9 9 9 910\u001b[32mcdo    monmean: \u001b[0mProcessed 71370000 values from 1 variable over 366 timesteps [1.02s 3308MB]\n",
      "Processing year: 1989\n",
      "cdo    monmean:                        1 1 1 1 1 1 1 1 1 1 2 2 2 2 2 2 2 2 2 2 3 3 3 3 3 3 3 3 3 3 4 4 4 4 4 4 4 4 4 4 5 5 5 5 5 5 5 5 5 5 6 6 6 6 6 6 6 6 6 6 7 7 7 7 7 7 7 7 7 7 8 8 8 8 8 8 8 8 8 8 9 9 9 9 9 9 9 9 9 910\u001b[32mcdo    monmean: \u001b[0mProcessed 71175000 values from 1 variable over 365 timesteps [1.02s 3308MB]\n",
      "Processing year: 1990\n",
      "cdo    monmean:                        1 1 1 1 1 1 1 1 1 1 2 2 2 2 2 2 2 2 2 2 3 3 3 3 3 3 3 3 3 3 4 4 4 4 4 4 4 4 4 4 5 5 5 5 5 5 5 5 5 5 6 6 6 6 6 6 6 6 6 6 7 7 7 7 7 7 7 7 7 7 8 8 8 8 8 8 8 8 8 8 9 9 9 9 9 9 9 9 9 910\u001b[32mcdo    monmean: \u001b[0mProcessed 71175000 values from 1 variable over 365 timesteps [1.02s 3308MB]\n",
      "Processing year: 1991\n",
      "cdo    monmean:                        1 1 1 1 1 1 1 1 1 1 2 2 2 2 2 2 2 2 2 2 3 3 3 3 3 3 3 3 3 3 4 4 4 4 4 4 4 4 4 4 5 5 5 5 5 5 5 5 5 5 6 6 6 6 6 6 6 6 6 6 7 7 7 7 7 7 7 7 7 7 8 8 8 8 8 8 8 8 8 8 9 9 9 9 9 9 9 9 9 910\u001b[32mcdo    monmean: \u001b[0mProcessed 71175000 values from 1 variable over 365 timesteps [1.03s 3308MB]\n",
      "Processing year: 1992\n",
      "cdo    monmean:                        1 1 1 1 1 1 1 1 1 1 2 2 2 2 2 2 2 2 2 2 3 3 3 3 3 3 3 3 3 3 4 4 4 4 4 4 4 4 4 4 5 5 5 5 5 5 5 5 5 5 6 6 6 6 6 6 6 6 6 6 7 7 7 7 7 7 7 7 7 7 8 8 8 8 8 8 8 8 8 8 9 9 9 9 9 9 9 9 9 910\u001b[32mcdo    monmean: \u001b[0mProcessed 71370000 values from 1 variable over 366 timesteps [1.02s 3308MB]\n",
      "Processing year: 1993\n",
      "cdo    monmean:                        1 1 1 1 1 1 1 1 1 1 2 2 2 2 2 2 2 2 2 2 3 3 3 3 3 3 3 3 3 3 4 4 4 4 4 4 4 4 4 4 5 5 5 5 5 5 5 5 5 5 6 6 6 6 6 6 6 6 6 6 7 7 7 7 7 7 7 7 7 7 8 8 8 8 8 8 8 8 8 8 9 9 9 9 9 9 9 9 9 910\u001b[32mcdo    monmean: \u001b[0mProcessed 71175000 values from 1 variable over 365 timesteps [1.01s 3308MB]\n",
      "Processing year: 1994\n",
      "cdo    monmean:                        1 1 1 1 1 1 1 1 1 1 2 2 2 2 2 2 2 2 2 2 3 3 3 3 3 3 3 3 3 3 4 4 4 4 4 4 4 4 4 4 5 5 5 5 5 5 5 5 5 5 6 6 6 6 6 6 6 6 6 6 7 7 7 7 7 7 7 7 7 7 8 8 8 8 8 8 8 8 8 8 9 9 9 9 9 9 9 9 9 910\u001b[32mcdo    monmean: \u001b[0mProcessed 71175000 values from 1 variable over 365 timesteps [1.02s 3308MB]\n",
      "Processing year: 1995\n",
      "cdo    monmean:                        1 1 1 1 1 1 1 1 1 1 2 2 2 2 2 2 2 2 2 2 3 3 3 3 3 3 3 3 3 3 4 4 4 4 4 4 4 4 4 4 5 5 5 5 5 5 5 5 5 5 6 6 6 6 6 6 6 6 6 6 7 7 7 7 7 7 7 7 7 7 8 8 8 8 8 8 8 8 8 8 9 9 9 9 9 9 9 9 9 910\u001b[32mcdo    monmean: \u001b[0mProcessed 71175000 values from 1 variable over 365 timesteps [1.02s 3308MB]\n",
      "Processing year: 1996\n",
      "cdo    monmean:                        1 1 1 1 1 1 1 1 1 1 2 2 2 2 2 2 2 2 2 2 3 3 3 3 3 3 3 3 3 3 4 4 4 4 4 4 4 4 4 4 5 5 5 5 5 5 5 5 5 5 6 6 6 6 6 6 6 6 6 6 7 7 7 7 7 7 7 7 7 7 8 8 8 8 8 8 8 8 8 8 9 9 9 9 9 9 9 9 9 910\u001b[32mcdo    monmean: \u001b[0mProcessed 71370000 values from 1 variable over 366 timesteps [1.02s 3308MB]\n",
      "Processing year: 1997\n",
      "cdo    monmean:                        1 1 1 1 1 1 1 1 1 1 2 2 2 2 2 2 2 2 2 2 3 3 3 3 3 3 3 3 3 3 4 4 4 4 4 4 4 4 4 4 5 5 5 5 5 5 5 5 5 5 6 6 6 6 6 6 6 6 6 6 7 7 7 7 7 7 7 7 7 7 8 8 8 8 8 8 8 8 8 8 9 9 9 9 9 9 9 9 9 910\u001b[32mcdo    monmean: \u001b[0mProcessed 71175000 values from 1 variable over 365 timesteps [1.02s 3308MB]\n",
      "Processing year: 1998\n",
      "cdo    monmean:                        1 1 1 1 1 1 1 1 1 1 2 2 2 2 2 2 2 2 2 2 3 3 3 3 3 3 3 3 3 3 4 4 4 4 4 4 4 4 4 4 5 5 5 5 5 5 5 5 5 5 6 6 6 6 6 6 6 6 6 6 7 7 7 7 7 7 7 7 7 7 8 8 8 8 8 8 8 8 8 8 9 9 9 9 9 9 9 9 9 910\u001b[32mcdo    monmean: \u001b[0mProcessed 71175000 values from 1 variable over 365 timesteps [1.02s 3308MB]\n",
      "Processing year: 1999\n",
      "cdo    monmean:                        1 1 1 1 1 1 1 1 1 1 2 2 2 2 2 2 2 2 2 2 3 3 3 3 3 3 3 3 3 3 4 4 4 4 4 4 4 4 4 4 5 5 5 5 5 5 5 5 5 5 6 6 6 6 6 6 6 6 6 6 7 7 7 7 7 7 7 7 7 7 8 8 8 8 8 8 8 8 8 8 9 9 9 9 9 9 9 9 9 910\u001b[32mcdo    monmean: \u001b[0mProcessed 71175000 values from 1 variable over 365 timesteps [1.02s 3308MB]\n",
      "Processing year: 2000\n",
      "cdo    monmean:                        1 1 1 1 1 1 1 1 1 1 2 2 2 2 2 2 2 2 2 2 3 3 3 3 3 3 3 3 3 3 4 4 4 4 4 4 4 4 4 4 5 5 5 5 5 5 5 5 5 5 6 6 6 6 6 6 6 6 6 6 7 7 7 7 7 7 7 7 7 7 8 8 8 8 8 8 8 8 8 8 9 9 9 9 9 9 9 9 9 910\u001b[32mcdo    monmean: \u001b[0mProcessed 71370000 values from 1 variable over 366 timesteps [1.02s 3308MB]\n",
      "Processing year: 2001\n",
      "cdo    monmean:                        1 1 1 1 1 1 1 1 1 1 2 2 2 2 2 2 2 2 2 2 3 3 3 3 3 3 3 3 3 3 4 4 4 4 4 4 4 4 4 4 5 5 5 5 5 5 5 5 5 5 6 6 6 6 6 6 6 6 6 6 7 7 7 7 7 7 7 7 7 7 8 8 8 8 8 8 8 8 8 8 9 9 9 9 9 9 9 9 9 910\u001b[32mcdo    monmean: \u001b[0mProcessed 71175000 values from 1 variable over 365 timesteps [1.02s 3308MB]\n",
      "Processing year: 2002\n",
      "cdo    monmean:                        1 1 1 1 1 1 1 1 1 1 2 2 2 2 2 2 2 2 2 2 3 3 3 3 3 3 3 3 3 3 4 4 4 4 4 4 4 4 4 4 5 5 5 5 5 5 5 5 5 5 6 6 6 6 6 6 6 6 6 6 7 7 7 7 7 7 7 7 7 7 8 8 8 8 8 8 8 8 8 8 9 9 9 9 9 9 9 9 9 910\u001b[32mcdo    monmean: \u001b[0mProcessed 71175000 values from 1 variable over 365 timesteps [1.01s 3308MB]\n",
      "Processing year: 2003\n",
      "cdo    monmean:                        1 1 1 1 1 1 1 1 1 1 2 2 2 2 2 2 2 2 2 2 3 3 3 3 3 3 3 3 3 3 4 4 4 4 4 4 4 4 4 4 5 5 5 5 5 5 5 5 5 5 6 6 6 6 6 6 6 6 6 6 7 7 7 7 7 7 7 7 7 7 8 8 8 8 8 8 8 8 8 8 9 9 9 9 9 9 9 9 9 910\u001b[32mcdo    monmean: \u001b[0mProcessed 71175000 values from 1 variable over 365 timesteps [1.01s 3308MB]\n",
      "Processing year: 2004\n",
      "cdo    monmean:                        1 1 1 1 1 1 1 1 1 1 2 2 2 2 2 2 2 2 2 2 3 3 3 3 3 3 3 3 3 3 4 4 4 4 4 4 4 4 4 4 5 5 5 5 5 5 5 5 5 5 6 6 6 6 6 6 6 6 6 6 7 7 7 7 7 7 7 7 7 7 8 8 8 8 8 8 8 8 8 8 9 9 9 9 9 9 9 9 9 910\u001b[32mcdo    monmean: \u001b[0mProcessed 71370000 values from 1 variable over 366 timesteps [1.02s 3308MB]\n",
      "Processing year: 2005\n",
      "cdo    monmean:                        1 1 1 1 1 1 1 1 1 1 2 2 2 2 2 2 2 2 2 2 3 3 3 3 3 3 3 3 3 3 4 4 4 4 4 4 4 4 4 4 5 5 5 5 5 5 5 5 5 5 6 6 6 6 6 6 6 6 6 6 7 7 7 7 7 7 7 7 7 7 8 8 8 8 8 8 8 8 8 8 9 9 9 9 9 9 9 9 9 910\u001b[32mcdo    monmean: \u001b[0mProcessed 71175000 values from 1 variable over 365 timesteps [1.01s 3308MB]\n",
      "Processing year: 2006\n",
      "cdo    monmean:                        1 1 1 1 1 1 1 1 1 1 2 2 2 2 2 2 2 2 2 2 3 3 3 3 3 3 3 3 3 3 4 4 4 4 4 4 4 4 4 4 5 5 5 5 5 5 5 5 5 5 6 6 6 6 6 6 6 6 6 6 7 7 7 7 7 7 7 7 7 7 8 8 8 8 8 8 8 8 8 8 9 9 9 9 9 9 9 9 9 910\u001b[32mcdo    monmean: \u001b[0mProcessed 71175000 values from 1 variable over 365 timesteps [1.01s 3308MB]\n",
      "Processing year: 2007\n",
      "cdo    monmean:                        1 1 1 1 1 1 1 1 1 1 2 2 2 2 2 2 2 2 2 2 3 3 3 3 3 3 3 3 3 3 4 4 4 4 4 4 4 4 4 4 5 5 5 5 5 5 5 5 5 5 6 6 6 6 6 6 6 6 6 6 7 7 7 7 7 7 7 7 7 7 8 8 8 8 8 8 8 8 8 8 9 9 9 9 9 9 9 9 9 910\u001b[32mcdo    monmean: \u001b[0mProcessed 71175000 values from 1 variable over 365 timesteps [1.01s 3308MB]\n",
      "Processing year: 2008\n",
      "cdo    monmean:                        1 1 1 1 1 1 1 1 1 1 2 2 2 2 2 2 2 2 2 2 3 3 3 3 3 3 3 3 3 3 4 4 4 4 4 4 4 4 4 4 5 5 5 5 5 5 5 5 5 5 6 6 6 6 6 6 6 6 6 6 7 7 7 7 7 7 7 7 7 7 8 8 8 8 8 8 8 8 8 8 9 9 9 9 9 9 9 9 9 910\u001b[32mcdo    monmean: \u001b[0mProcessed 71370000 values from 1 variable over 366 timesteps [1.01s 3308MB]\n",
      "Processing year: 2009\n",
      "cdo    monmean:                        1 1 1 1 1 1 1 1 1 1 2 2 2 2 2 2 2 2 2 2 3 3 3 3 3 3 3 3 3 3 4 4 4 4 4 4 4 4 4 4 5 5 5 5 5 5 5 5 5 5 6 6 6 6 6 6 6 6 6 6 7 7 7 7 7 7 7 7 7 7 8 8 8 8 8 8 8 8 8 8 9 9 9 9 9 9 9 9 9 910\u001b[32mcdo    monmean: \u001b[0mProcessed 71175000 values from 1 variable over 365 timesteps [1.01s 3308MB]\n",
      "Processing year: 2010\n",
      "cdo    monmean:                        1 1 1 1 1 1 1 1 1 1 2 2 2 2 2 2 2 2 2 2 3 3 3 3 3 3 3 3 3 3 4 4 4 4 4 4 4 4 4 4 5 5 5 5 5 5 5 5 5 5 6 6 6 6 6 6 6 6 6 6 7 7 7 7 7 7 7 7 7 7 8 8 8 8 8 8 8 8 8 8 9 9 9 9 9 9 9 9 9 910\u001b[32mcdo    monmean: \u001b[0mProcessed 71175000 values from 1 variable over 365 timesteps [1.01s 3308MB]\n",
      "Processing year: 2011\n",
      "cdo    monmean:                        1 1 1 1 1 1 1 1 1 1 2 2 2 2 2 2 2 2 2 2 3 3 3 3 3 3 3 3 3 3 4 4 4 4 4 4 4 4 4 4 5 5 5 5 5 5 5 5 5 5 6 6 6 6 6 6 6 6 6 6 7 7 7 7 7 7 7 7 7 7 8 8 8 8 8 8 8 8 8 8 9 9 9 9 9 9 9 9 9 910\u001b[32mcdo    monmean: \u001b[0mProcessed 71175000 values from 1 variable over 365 timesteps [1.02s 3308MB]\n",
      "Processing year: 2012\n",
      "cdo    monmean:                        1 1 1 1 1 1 1 1 1 1 2 2 2 2 2 2 2 2 2 2 3 3 3 3 3 3 3 3 3 3 4 4 4 4 4 4 4 4 4 4 5 5 5 5 5 5 5 5 5 5 6 6 6 6 6 6 6 6 6 6 7 7 7 7 7 7 7 7 7 7 8 8 8 8 8 8 8 8 8 8 9 9 9 9 9 9 9 9 9 910\u001b[32mcdo    monmean: \u001b[0mProcessed 71370000 values from 1 variable over 366 timesteps [1.02s 3308MB]\n",
      "Processing year: 2013\n",
      "cdo    monmean:                        1 1 1 1 1 1 1 1 1 1 2 2 2 2 2 2 2 2 2 2 3 3 3 3 3 3 3 3 3 3 4 4 4 4 4 4 4 4 4 4 5 5 5 5 5 5 5 5 5 5 6 6 6 6 6 6 6 6 6 6 7 7 7 7 7 7 7 7 7 7 8 8 8 8 8 8 8 8 8 8 9 9 9 9 9 9 9 9 9 910\u001b[32mcdo    monmean: \u001b[0mProcessed 71175000 values from 1 variable over 365 timesteps [1.02s 3308MB]\n",
      "Processing year: 2014\n",
      "cdo    monmean:                        1 1 1 1 1 1 1 1 1 1 2 2 2 2 2 2 2 2 2 2 3 3 3 3 3 3 3 3 3 3 4 4 4 4 4 4 4 4 4 4 5 5 5 5 5 5 5 5 5 5 6 6 6 6 6 6 6 6 6 6 7 7 7 7 7 7 7 7 7 7 8 8 8 8 8 8 8 8 8 8 9 9 9 9 9 9 9 9 9 910\u001b[32mcdo    monmean: \u001b[0mProcessed 71175000 values from 1 variable over 365 timesteps [1.01s 3308MB]\n",
      "Processing year: 2015\n",
      "cdo    monmean:                        1 1 1 1 1 1 1 1 1 1 2 2 2 2 2 2 2 2 2 2 3 3 3 3 3 3 3 3 3 3 4 4 4 4 4 4 4 4 4 4 5 5 5 5 5 5 5 5 5 5 6 6 6 6 6 6 6 6 6 6 7 7 7 7 7 7 7 7 7 7 8 8 8 8 8 8 8 8 8 8 9 9 9 9 9 9 9 9 9 910\u001b[32mcdo    monmean: \u001b[0mProcessed 71175000 values from 1 variable over 365 timesteps [1.02s 3308MB]\n",
      "Processing year: 2016\n",
      "cdo    monmean:                        1 1 1 1 1 1 1 1 1 1 2 2 2 2 2 2 2 2 2 2 3 3 3 3 3 3 3 3 3 3 4 4 4 4 4 4 4 4 4 4 5 5 5 5 5 5 5 5 5 5 6 6 6 6 6 6 6 6 6 6 7 7 7 7 7 7 7 7 7 7 8 8 8 8 8 8 8 8 8 8 9 9 9 9 9 9 9 9 9 910\u001b[32mcdo    monmean: \u001b[0mProcessed 71370000 values from 1 variable over 366 timesteps [1.01s 3308MB]\n",
      "Processing year: 2017\n",
      "cdo    monmean:                        1 1 1 1 1 1 1 1 1 1 2 2 2 2 2 2 2 2 2 2 3 3 3 3 3 3 3 3 3 3 4 4 4 4 4 4 4 4 4 4 5 5 5 5 5 5 5 5 5 5 6 6 6 6 6 6 6 6 6 6 7 7 7 7 7 7 7 7 7 7 8 8 8 8 8 8 8 8 8 8 9 9 9 9 9 9 9 9 9 910\u001b[32mcdo    monmean: \u001b[0mProcessed 71175000 values from 1 variable over 365 timesteps [1.02s 3308MB]\n",
      "Processing year: 2018\n",
      "cdo    monmean:                        1 1 1 1 1 1 1 1 1 1 2 2 2 2 2 2 2 2 2 2 3 3 3 3 3 3 3 3 3 3 4 4 4 4 4 4 4 4 4 4 5 5 5 5 5 5 5 5 5 5 6 6 6 6 6 6 6 6 6 6 7 7 7 7 7 7 7 7 7 7 8 8 8 8 8 8 8 8 8 8 9 9 9 9 9 9 9 9 9 910\u001b[32mcdo    monmean: \u001b[0mProcessed 71175000 values from 1 variable over 365 timesteps [1.01s 3308MB]\n",
      "Processing year: 2019\n",
      "cdo    monmean:                        1 1 1 1 1 1 1 1 1 1 2 2 2 2 2 2 2 2 2 2 3 3 3 3 3 3 3 3 3 3 4 4 4 4 4 4 4 4 4 4 5 5 5 5 5 5 5 5 5 5 6 6 6 6 6 6 6 6 6 6 7 7 7 7 7 7 7 7 7 7 8 8 8 8 8 8 8 8 8 8 9 9 9 9 9 9 9 9 9 910\u001b[32mcdo    monmean: \u001b[0mProcessed 71175000 values from 1 variable over 365 timesteps [1.01s 3308MB]\n",
      "Processing year: 2020\n",
      "cdo    monmean:                        1 1 1 1 1 1 1 1 1 1 2 2 2 2 2 2 2 2 2 2 3 3 3 3 3 3 3 3 3 3 4 4 4 4 4 4 4 4 4 4 5 5 5 5 5 5 5 5 5 5 6 6 6 6 6 6 6 6 6 6 7 7 7 7 7 7 7 7 7 7 8 8 8 8 8 8 8 8 8 8 9 9 9 9 9 9 9 9 9 910\u001b[32mcdo    monmean: \u001b[0mProcessed 71370000 values from 1 variable over 366 timesteps [1.01s 3308MB]\n",
      "Processing year: 2021\n",
      "cdo    monmean:                        1 1 1 1 1 1 1 1 1 1 2 2 2 2 2 2 2 2 2 2 3 3 3 3 3 3 3 3 3 3 4 4 4 4 4 4 4 4 4 4 5 5 5 5 5 5 5 5 5 5 6 6 6 6 6 6 6 6 6 6 7 7 7 7 7 7 7 7 7 7 8 8 8 8 8 8 8 8 8 8 9 9 9 9 9 9 9 9 9 910\u001b[32mcdo    monmean: \u001b[0mProcessed 71175000 values from 1 variable over 365 timesteps [1.02s 3308MB]\n",
      "Processing year: 2022\n",
      "cdo    monmean:                        1 1 1 1 1 1 1 1 1 1 2 2 2 2 2 2 2 2 2 2 3 3 3 3 3 3 3 3 3 3 4 4 4 4 4 4 4 4 4 4 5 5 5 5 5 5 5 5 5 5 6 6 6 6 6 6 6 6 6 6 7 7 7 7 7 7 7 7 7 7 8 8 8 8 8 8 8 8 8 8 9 9 9 9 9 9 9 9 9 910\u001b[32mcdo    monmean: \u001b[0mProcessed 71175000 values from 1 variable over 365 timesteps [1.02s 3308MB]\n",
      "Processing year: 2023\n",
      "cdo    monmean:                        1 1 1 1 1 1 1 1 1 1 2 2 2 2 2 2 2 2 2 2 3 3 3 3 3 3 3 3 3 3 4 4 4 4 4 4 4 4 4 4 5 5 5 5 5 5 5 5 5 5 6 6 6 6 6 6 6 6 6 6 7 7 7 7 7 7 7 7 7 7 8 8 8 8 8 8 8 8 8 8 9 9 9 9 9 9 9 9 9 910\u001b[32mcdo    monmean: \u001b[0mProcessed 71175000 values from 1 variable over 365 timesteps [1.01s 3308MB]\n"
     ]
    }
   ],
   "source": [
    "# This script is used to make monthly means of the SST data using CDO.\n",
    "\n",
    "year_start = 1982\n",
    "year_end = 2023\n",
    "\n",
    "for year in range(year_start, year_end + 1):\n",
    "    print(f\"Processing year: {year}\")\n",
    "    input_file = f\"{input_dir}/sst_global_{year}.nc\"\n",
    "    output_file = f\"{output_dir}/sst_atlantico_{year}.nc\"\n",
    "    !cdo monmean \"{input_file}\" \"{output_file}\""
   ]
  }
 ],
 "metadata": {
  "kernelspec": {
   "display_name": "cdo",
   "language": "python",
   "name": "python3"
  },
  "language_info": {
   "codemirror_mode": {
    "name": "ipython",
    "version": 3
   },
   "file_extension": ".py",
   "mimetype": "text/x-python",
   "name": "python",
   "nbconvert_exporter": "python",
   "pygments_lexer": "ipython3",
   "version": "3.13.1"
  }
 },
 "nbformat": 4,
 "nbformat_minor": 5
}
