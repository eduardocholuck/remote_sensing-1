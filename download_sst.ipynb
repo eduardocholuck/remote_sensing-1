{
 "cells": [
  {
   "cell_type": "code",
   "execution_count": 5,
   "id": "c819fd22",
   "metadata": {},
   "outputs": [],
   "source": [
    "import copernicusmarine"
   ]
  },
  {
   "cell_type": "code",
   "execution_count": null,
   "id": "d9f727e3",
   "metadata": {},
   "outputs": [
    {
     "name": "stderr",
     "output_type": "stream",
     "text": [
      "INFO - 2025-08-05T11:49:29Z - Selected dataset version: \"202411\"\n",
      "INFO - 2025-08-05T11:49:29Z - Selected dataset part: \"default\"\n",
      "INFO - 2025-08-05T11:51:32Z - Starting download. Please wait...\n",
      "INFO - 2025-08-05T11:51:32Z - NetCDF compression enabled with level 9\n",
      "100%|██████████| 39/39 [02:25<00:00,  3.73s/it]  \n",
      "INFO - 2025-08-05T11:53:59Z - Successfully downloaded to dataset/sst_global/sst_global_1982_(1).nc\n",
      "INFO - 2025-08-05T11:54:13Z - Selected dataset version: \"202411\"\n",
      "INFO - 2025-08-05T11:54:13Z - Selected dataset part: \"default\"\n",
      "INFO - 2025-08-05T11:54:18Z - Starting download. Please wait...\n",
      "INFO - 2025-08-05T11:54:18Z - NetCDF compression enabled with level 9\n",
      "100%|██████████| 130/130 [02:22<00:00,  1.10s/it] \n",
      "INFO - 2025-08-05T11:56:41Z - Successfully downloaded to dataset/sst_global/sst_global_1983.nc\n",
      "INFO - 2025-08-05T11:56:55Z - Selected dataset version: \"202411\"\n",
      "INFO - 2025-08-05T11:56:55Z - Selected dataset part: \"default\"\n",
      "INFO - 2025-08-05T11:57:00Z - Starting download. Please wait...\n",
      "INFO - 2025-08-05T11:57:00Z - NetCDF compression enabled with level 9\n",
      "100%|██████████| 130/130 [02:27<00:00,  1.13s/it] \n",
      "INFO - 2025-08-05T11:59:28Z - Successfully downloaded to dataset/sst_global/sst_global_1984.nc\n"
     ]
    }
   ],
   "source": [
    "for ano in range(1982, 1985):\n",
    "    copernicusmarine.subset(\n",
    "        dataset_id=\"cmems_obs-sst_glo_phy_my_l4_P1D-m\",\n",
    "        dataset_version=\"202411\",\n",
    "        username=\"seu_usuario\",\n",
    "        password=\"sua_senha\",\n",
    "        variables=[\"analysed_sst\"],\n",
    "        minimum_longitude=-50,\n",
    "        maximum_longitude=15,\n",
    "        minimum_latitude=-15,\n",
    "        maximum_latitude=15,\n",
    "        start_datetime=f\"{ano}-01-01T00:00:00\",\n",
    "        end_datetime=f\"{ano}-12-31T00:00:00\",\n",
    "        coordinates_selection_method=\"strict-inside\",\n",
    "        netcdf_compression_level=2,\n",
    "        disable_progress_bar=False,\n",
    "        output_filename = \"sst_global_\" + str(ano) + \".nc\",\n",
    "        output_directory=\"dataset/sst_global\"\n",
    "    )"
   ]
  }
 ],
 "metadata": {
  "kernelspec": {
   "display_name": "cdo",
   "language": "python",
   "name": "python3"
  },
  "language_info": {
   "codemirror_mode": {
    "name": "ipython",
    "version": 3
   },
   "file_extension": ".py",
   "mimetype": "text/x-python",
   "name": "python",
   "nbconvert_exporter": "python",
   "pygments_lexer": "ipython3",
   "version": "3.13.1"
  }
 },
 "nbformat": 4,
 "nbformat_minor": 5
}
