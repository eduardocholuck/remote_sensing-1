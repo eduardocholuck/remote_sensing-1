{
 "cells": [
  {
   "cell_type": "markdown",
   "id": "c96210fb",
   "metadata": {},
   "source": [
    "# 02 - Cálculo de Quantis e Classificação de Eventos (EPI, EPN, EPF)\n",
    "\n",
    "Este notebook realiza:\n",
    "1. Leitura dos dados mensais do CHIRPS, salvo no notebook anterior.\n",
    "\n",
    "2. Cálculo dos quantis **95, 45–55 e 5** para cada pixel.\n",
    "\n",
    "3. Classificação mensal de cada pixel em **EPI, EPN ou EPF**.\n",
    "\n",
    "4. Salvamento dos resultados como NetCDF para uso posterior.\n",
    "\n",
    "Classes:\n",
    "- **EPI (Eventos de Precipitação Intensa):** valores > P95\n",
    "- **EPN (Eventos de Precipitação Normal):** valores entre P45 e P55\n",
    "- **EPF (Eventos de Precipitação Fraca):** valores < P5"
   ]
  },
  {
   "cell_type": "code",
   "execution_count": 10,
   "id": "adc46977",
   "metadata": {},
   "outputs": [],
   "source": [
    "import xarray as xr\n",
    "import numpy as np\n",
    "import os"
   ]
  },
  {
   "cell_type": "code",
   "execution_count": 11,
   "id": "ccc065a2",
   "metadata": {},
   "outputs": [],
   "source": [
    "# Caminho para o NetCDF criado no notebook 01\n",
    "arquivo_nc = \"dataset/netcdf_data/chirps_mensal_1981_2023.nc\"\n",
    "\n",
    "# Diretório de saída para os arquivos classificados\n",
    "saida_dir = \"dataset/netcdf_data\"\n",
    "os.makedirs(saida_dir, exist_ok=True)\n"
   ]
  },
  {
   "cell_type": "code",
   "execution_count": 12,
   "id": "061c7eba",
   "metadata": {},
   "outputs": [
    {
     "name": "stdout",
     "output_type": "stream",
     "text": [
      "<xarray.DataArray 'precip' (time: 516, lat: 267, lon: 188)> Size: 104MB\n",
      "[25901136 values with dtype=float32]\n",
      "Coordinates:\n",
      "  * time     (time) datetime64[ns] 4kB 1981-01-01 1981-10-01 ... 2023-09-01\n",
      "  * lat      (lat) float64 2kB -2.75 -2.8 -2.85 -2.9 ... -15.95 -16.0 -16.05\n",
      "  * lon      (lon) float64 2kB -44.55 -44.5 -44.45 -44.4 ... -35.3 -35.25 -35.2\n"
     ]
    }
   ],
   "source": [
    "# Carregar o arquivo NetCDF\n",
    "\n",
    "ds = xr.open_dataarray(arquivo_nc)\n",
    "print(ds)"
   ]
  },
  {
   "cell_type": "code",
   "execution_count": 13,
   "id": "ba9eaedb",
   "metadata": {},
   "outputs": [
    {
     "data": {
      "text/plain": [
       "('precip', 'precip', 'precip', 'precip')"
      ]
     },
     "execution_count": 13,
     "metadata": {},
     "output_type": "execute_result"
    }
   ],
   "source": [
    "# Calcular os quantis 95, 45-55 e 5\n",
    "q95 = ds.quantile(0.95, dim='time')\n",
    "q45 = ds.quantile(0.45, dim='time')\n",
    "q55 = ds.quantile(0.55, dim='time')\n",
    "q5 = ds.quantile(0.05, dim='time')\n",
    "\n",
    "q95.name, q5.name, q45.name, q55.name"
   ]
  },
  {
   "cell_type": "code",
   "execution_count": 14,
   "id": "6b20f498",
   "metadata": {},
   "outputs": [],
   "source": [
    "# Classificação dos eventos\n",
    "\n",
    "# EPI: Precipitação acima do percentil 95\n",
    "epi = ds > q95\n",
    "\n",
    "# EPN: Precipitação entre percentis 45 e 55\n",
    "epn = (ds >= q45) & (ds <= q55)\n",
    "\n",
    "# EPF: Precipitação abaixo do percentil 5\n",
    "epf = ds < q5"
   ]
  },
  {
   "cell_type": "code",
   "execution_count": 15,
   "id": "b1b31cac",
   "metadata": {},
   "outputs": [
    {
     "name": "stdout",
     "output_type": "stream",
     "text": [
      "Pixel central: lat=-9.400001034140587, lon=-39.84999791160226\n",
      "Exemplo classificação EPI: [False False False False False  True False False False False False False]\n"
     ]
    }
   ],
   "source": [
    "# Checar um pixel aleatório\n",
    "lat_rand = float(ds.lat[len(ds.lat)//2])\n",
    "lon_rand = float(ds.lon[len(ds.lon)//2])\n",
    "\n",
    "print(f\"Pixel central: lat={lat_rand}, lon={lon_rand}\")\n",
    "print(\"Exemplo classificação EPI:\", epi.sel(lat=lat_rand, lon=lon_rand).values[:12])  # primeiros 12 meses\n"
   ]
  },
  {
   "cell_type": "code",
   "execution_count": 16,
   "id": "ecc0051b",
   "metadata": {},
   "outputs": [
    {
     "name": "stdout",
     "output_type": "stream",
     "text": [
      "Arquivos salvos em dataset/netcdf_data/: epi.nc, epn.nc, epf.nc\n"
     ]
    }
   ],
   "source": [
    "# Salvar os resultados em NetCDF\n",
    "epi.to_netcdf(os.path.join(saida_dir, \"epi.nc\"))\n",
    "epn.to_netcdf(os.path.join(saida_dir, \"epn.nc\"))\n",
    "epf.to_netcdf(os.path.join(saida_dir, \"epf.nc\"))\n",
    "\n",
    "print(\"Arquivos salvos em dataset/netcdf_data/: epi.nc, epn.nc, epf.nc\")\n"
   ]
  },
  {
   "cell_type": "markdown",
   "id": "9ba081e2",
   "metadata": {},
   "source": [
    "- Cada arquivo salvo possui dimensões iguais ao dataset original: (time, lat, lon).\n",
    "\n",
    "- Valores são booleanos (`True` para meses que atendem à condição do evento).\n",
    "\n",
    "- Próximo passo: usar estes arquivos para calcular frequência e intensidade (notebook 03).\n"
   ]
  }
 ],
 "metadata": {
  "kernelspec": {
   "display_name": "cdo",
   "language": "python",
   "name": "python3"
  },
  "language_info": {
   "codemirror_mode": {
    "name": "ipython",
    "version": 3
   },
   "file_extension": ".py",
   "mimetype": "text/x-python",
   "name": "python",
   "nbconvert_exporter": "python",
   "pygments_lexer": "ipython3",
   "version": "3.13.1"
  }
 },
 "nbformat": 4,
 "nbformat_minor": 5
}
